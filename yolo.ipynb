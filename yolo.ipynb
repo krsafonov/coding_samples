{
 "cells": [
  {
   "cell_type": "markdown",
   "metadata": {
    "id": "vKdcvMtSMpSg"
   },
   "source": [
    "# YOLO\n",
    "\n",
    "This is the example of my code, where I developed YOLO (you only look once), which is the model for object detection. (https://arxiv.org/abs/1506.02640)\n",
    "\n",
    "It is a part of the course Deep Learning (homework # 3). Everything is implemetned using Pytorch and Pytorch lightning.\n",
    "\n",
    "__Instructions__:\n",
    "\n",
    "In this assignment, you will write and train your own YOLO detector. You will need to figure out the article: understand what format the training pair (x, y) should be, how to translate los from a mathematical formula into Python code - and of course understand and implement the architecture of the model itself.\n",
    "\n",
    "The sample on which we will train the model consists of a variety of photos of apples, bananas and oranges. Download the data [from here](https://drive.google.com/file/d/1d8GSfZoWbraWCSUhX78yl4CnMFYE-5n3/view?usp=sharing )."
   ]
  },
  {
   "cell_type": "code",
   "execution_count": 1,
   "metadata": {
    "colab": {
     "base_uri": "https://localhost:8080/"
    },
    "id": "TY4niK1xMpSg",
    "outputId": "1810d5cf-5d4d-4b5b-db31-5a220ee2b74d"
   },
   "outputs": [],
   "source": [
    "# ! pip install xmltodict pytorch-lightning\n",
    "\n",
    "# !wget --quiet --load-cookies /tmp/cookies.txt \"https://docs.google.com/uc?export=download&confirm=$(wget --quiet --save-cookies /tmp/cookies.txt --keep-session-cookies --no-check-certificate 'https://drive.google.com/uc?export=download&id=1d8GSfZoWbraWCSUhX78yl4CnMFYE-5n3' -O- | sed -rn 's/.*confirm=([0-9A-Za-z_]+).*/\\1\\n/p')&id=1d8GSfZoWbraWCSUhX78yl4CnMFYE-5n3\" -O data.zip && rm -rf /tmp/cookies.txt\n",
    "# !unzip -q data.zip\n",
    "# !rm data.zip\n",
    "# !ls -l"
   ]
  },
  {
   "cell_type": "markdown",
   "metadata": {
    "id": "QdQxrA5_MpSg"
   },
   "source": [
    "## Preparing data"
   ]
  },
  {
   "cell_type": "code",
   "execution_count": 4,
   "metadata": {
    "id": "QXG9reop-BkS"
   },
   "outputs": [],
   "source": [
    "import os\n",
    "import cv2\n",
    "import json\n",
    "import glob\n",
    "import tqdm\n",
    "import xmltodict\n",
    "\n",
    "from IPython.core.display import struct\n",
    "\n",
    "from typing import List\n",
    "\n",
    "import pandas as pd\n",
    "import numpy as np\n",
    "\n",
    "import torch\n",
    "import torchvision\n",
    "from torch import nn\n",
    "from torch.nn import functional as F\n",
    "from torch.utils.data import Dataset, DataLoader\n",
    "\n",
    "import pytorch_lightning as pl\n",
    "\n",
    "import albumentations as A\n",
    "import albumentations.pytorch\n",
    "\n",
    "from PIL import Image\n",
    "\n",
    "import matplotlib.pyplot as plt\n",
    "\n",
    "from sklearn.metrics import auc"
   ]
  },
  {
   "cell_type": "code",
   "execution_count": null,
   "metadata": {},
   "outputs": [],
   "source": [
    "class2tag = {\"apple\": 0, \"orange\": 1, \"banana\": 2}\n",
    "\n",
    "class FruitDataset(Dataset):\n",
    "    def __init__(self, data_dir, S=7, B=2, C=3, transforms=None):\n",
    "        data_dir = os.path.join(*os.path.split(data_dir))\n",
    "        \n",
    "        self.image_paths = sorted([os.path.join(data_dir, i) for i in os.listdir(data_dir) if \"jpg\" in i])\n",
    "        self.box_paths = sorted([os.path.join(data_dir, i) for i in os.listdir(data_dir) if \"xml\" in i])\n",
    "\n",
    "        assert len(self.image_paths) == len(self.box_paths)\n",
    "\n",
    "        self.transforms = transforms\n",
    "        self.data_dir = data_dir\n",
    "        \n",
    "        self.S = S\n",
    "        self.B = B\n",
    "        self.C = C\n",
    "\n",
    "    def __getitem__(self, idx):\n",
    "        image = np.array(Image.open(self.image_paths[idx]).convert(\"RGB\"))\n",
    "        height = image.shape[0]\n",
    "        width = image.shape[1]\n",
    "        \n",
    "        boxes, class_labels = self.__get_boxes_from_xml(self.box_paths[idx], height=height, width=width)\n",
    "\n",
    "        if self.transforms:\n",
    "            transformed = self.transforms(image=image, bboxes=boxes, class_labels=class_labels)\n",
    "            image = transformed['image']\n",
    "            boxes = transformed['bboxes']\n",
    "    \n",
    "        return image, self.transform_boxes_classes_to_tensor(boxes, class_labels)\n",
    "\n",
    "    def __len__(self):\n",
    "        return len(self.image_paths)\n",
    "\n",
    "    def __get_boxes_from_xml(self, xml_filename: str, height=None, width=None):\n",
    "        \"\"\"\n",
    "        A method that reads and parses (using xmltodict) the transmitted xml file\n",
    "        and returns the coordinates of the rectangles of objects in the corresponding photo\n",
    "        and the name of the object class in each rectangle.\n",
    "        \n",
    "        Please note that there can be several objects, or only one.\n",
    "        \"\"\"\n",
    "    \n",
    "        boxes = []\n",
    "        class_labels = []\n",
    "        \n",
    "        with open(xml_filename, 'r') as f:\n",
    "            objects = xmltodict.parse(f.read())[\"annotation\"][\"object\"]\n",
    "            if isinstance(objects, dict):\n",
    "                box_dict = objects\n",
    "                \n",
    "                label = box_dict[\"name\"]\n",
    "                label = class2tag[label]\n",
    "\n",
    "                box = list(map(int, box_dict[\"bndbox\"].values()))\n",
    "                box = self.__convert_to_yolo_box_params(box, width, height)\n",
    "\n",
    "                boxes.append(box)\n",
    "                class_labels.append(label)\n",
    "            else:\n",
    "                for box_dict in objects:\n",
    "                    label = box_dict[\"name\"]\n",
    "                    label = class2tag[label]\n",
    "\n",
    "                    box = list(map(int, box_dict[\"bndbox\"].values()))\n",
    "                    box = self.__convert_to_yolo_box_params(box, width, height)\n",
    "\n",
    "                    boxes.append(box)\n",
    "                    class_labels.append(label)\n",
    "\n",
    "        return boxes, class_labels\n",
    "\n",
    "    def __convert_to_yolo_box_params(self, box_coordinates: List[int], im_w, im_h):\n",
    "        \"\"\"\n",
    "        Go from [xmin, ymin, xmax, ymax] to [x_center, y_center, width, height].\n",
    "\n",
    "        Note that the parameters [x_center, y_center, width, height] are\n",
    "        relative values in the segment [0, 1]\n",
    "\n",
    "        :param: box_coordinates - the coordinates of the box in the format [xmin, ymin, xmax, ymax]\n",
    "        :param: im_w - the width of the original image\n",
    "        :param: im_h - the height of the original image\n",
    "        \n",
    "        :return: the coordinates of the box in the format [x_center, y_center, width, height]\n",
    "        \"\"\"\n",
    "        \n",
    "        ans = []\n",
    "\n",
    "        ans.append((box_coordinates[0] + box_coordinates[2]) / 2 / im_w)  # x_center\n",
    "        ans.append((box_coordinates[1] + box_coordinates[3]) / 2 / im_h)  # y_center\n",
    "      \n",
    "        ans.append((box_coordinates[2] - box_coordinates[0]) / im_w)  # width\n",
    "        ans.append((box_coordinates[3] - box_coordinates[1]) / im_h)  # height\n",
    "        return ans\n",
    "    \n",
    "    def transform_boxes_classes_to_tensor(self, boxes, classes):\n",
    "        responsible_cells = []\n",
    "        for bbox in boxes:\n",
    "            cell = (int(bbox[0] / (1 / self.S)), int(bbox[1] / (1 / self.S)))\n",
    "            responsible_cells.append(cell)\n",
    "        tensor = torch.zeros((self.S, self.S, 5 * self.B + self.C))\n",
    "        for i, cell in enumerate(responsible_cells):\n",
    "            tensor[cell[0], cell[1], :4] = torch.tensor(boxes[i])\n",
    "            tensor[cell[0], cell[1], 4] = 1\n",
    "            tensor[cell[0], cell[1], 2 * 5 + classes[i]] = 1\n",
    "        return tensor"
   ]
  },
  {
   "cell_type": "code",
   "execution_count": 443,
   "metadata": {
    "id": "OwXeSiAjdGeq"
   },
   "outputs": [],
   "source": [
    "WIDTH, HEIGHT = 448, 448\n",
    "\n",
    "train_transform = A.Compose([\n",
    "    A.Resize(height=HEIGHT, width=WIDTH),\n",
    "    A.HorizontalFlip(p=0.3),\n",
    "    A.ShiftScaleRotate(shift_limit=0.05, scale_limit=0.05, rotate_limit=15, p=0.5),\n",
    "    A.RGBShift(r_shift_limit=15, g_shift_limit=15, b_shift_limit=15, p=0.5),\n",
    "    A.RandomBrightnessContrast(p=0.2),\n",
    "    A.Normalize(mean=(0.485, 0.456, 0.406), std=(0.229, 0.224, 0.225)),\n",
    "    A.pytorch.transforms.ToTensorV2(),\n",
    "], bbox_params=A.BboxParams(format='yolo', label_fields=['class_labels']))\n",
    "\n",
    "test_transform = A.Compose([\n",
    "    A.Resize(height=HEIGHT, width=WIDTH),\n",
    "    A.Normalize(mean=(0.485, 0.456, 0.406), std=(0.229, 0.224, 0.225)),\n",
    "    A.pytorch.transforms.ToTensorV2(),\n",
    "], bbox_params=A.BboxParams(format='yolo', label_fields=['class_labels']))"
   ]
  },
  {
   "cell_type": "code",
   "execution_count": 445,
   "metadata": {
    "id": "9V1Tl_GAdeIv"
   },
   "outputs": [],
   "source": [
    "train_dataset = FruitDataset(\n",
    "    transforms=train_transform,\n",
    "    data_dir=\"data/train\"\n",
    "    )\n",
    "\n",
    "val_dataset = FruitDataset(\n",
    "    transforms=test_transform, \n",
    "    data_dir=\"data/test\"\n",
    "    )\n",
    "\n",
    "train_dataloader = DataLoader(\n",
    "    dataset=train_dataset,\n",
    "    batch_size= 4,\n",
    "    shuffle=True,)\n",
    "\n",
    "val_dataloader = DataLoader(\n",
    "    dataset=val_dataset,\n",
    "    batch_size=4, \n",
    "    shuffle=False,)"
   ]
  },
  {
   "cell_type": "code",
   "execution_count": 455,
   "metadata": {},
   "outputs": [
    {
     "name": "stderr",
     "output_type": "stream",
     "text": [
      "Clipping input data to the valid range for imshow with RGB data ([0..1] for floats or [0..255] for integers).\n"
     ]
    },
    {
     "data": {
      "text/plain": [
       "tensor([[0.1449, 0.3555, 0.2868, 0.5734, 1.0000, 0.0000, 0.0000, 0.0000, 0.0000,\n",
       "         0.0000, 1.0000, 0.0000, 0.0000],\n",
       "        [0.3474, 0.2580, 0.3390, 0.4931, 1.0000, 0.0000, 0.0000, 0.0000, 0.0000,\n",
       "         0.0000, 1.0000, 0.0000, 0.0000],\n",
       "        [0.5153, 0.3337, 0.3773, 0.5161, 1.0000, 0.0000, 0.0000, 0.0000, 0.0000,\n",
       "         0.0000, 1.0000, 0.0000, 0.0000]])"
      ]
     },
     "execution_count": 455,
     "metadata": {},
     "output_type": "execute_result"
    },
    {
     "data": {
      "image/png": "[encoded data removed]",
      "text/plain": [
       "<Figure size 432x288 with 1 Axes>"
      ]
     },
     "metadata": {
      "needs_background": "light"
     },
     "output_type": "display_data"
    }
   ],
   "source": [
    "bla = train_dataset[2][0]\n",
    "plt.imshow(torch.swapaxes(torch.swapaxes(bla, 0, 2), 0, 1))\n",
    "train_dataset[2][1][train_dataset[2][1][:, :, 4] > 0]"
   ]
  },
  {
   "cell_type": "markdown",
   "metadata": {
    "id": "0fRR9ns6MpSh"
   },
   "source": [
    "Now let's define a function for calculating the Intersection Over Union at the 4 corners of two rectangles"
   ]
  },
  {
   "cell_type": "code",
   "execution_count": 456,
   "metadata": {
    "id": "Rd88hnZiMpSh"
   },
   "outputs": [],
   "source": [
    "def intersection_over_union_old(predicted_bbox, gt_bbox) -> float:\n",
    "    \"\"\"\n",
    "    Intersection Over Union for two rectangles \n",
    "\n",
    "    :param: predicted_bbox - [x_min, y_min, x_max, y_max]\n",
    "    :param: gt_bbox - [x_min, y_min, x_max, y_max]\n",
    "    \n",
    "    :return: Intersection Over Union\n",
    "    \"\"\"\n",
    "\n",
    "    intersection_bbox = np.array(\n",
    "        [\n",
    "            max(predicted_bbox[0], gt_bbox[0]),\n",
    "            max(predicted_bbox[1], gt_bbox[1]),\n",
    "            min(predicted_bbox[2], gt_bbox[2]),\n",
    "            min(predicted_bbox[3], gt_bbox[3]),\n",
    "        ]\n",
    "    )\n",
    "\n",
    "    intersection_area = max(intersection_bbox[2] - intersection_bbox[0], 0) * max(\n",
    "        intersection_bbox[3] - intersection_bbox[1], 0\n",
    "    )\n",
    "    area_dt = (predicted_bbox[2] - predicted_bbox[0]) * (predicted_bbox[3] - predicted_bbox[1])\n",
    "    area_gt = (gt_bbox[2] - gt_bbox[0]) * (gt_bbox[3] - gt_bbox[1])\n",
    "\n",
    "    union_area = area_dt + area_gt - intersection_area\n",
    "\n",
    "    iou = intersection_area / union_area\n",
    "    return iou"
   ]
  },
  {
   "cell_type": "code",
   "execution_count": 457,
   "metadata": {},
   "outputs": [],
   "source": [
    "def convert_to_albumnetations_box_params(box_coordinates: List[int]):\n",
    "        \"\"\"\n",
    "        Go from normalized [x_center, y_center, width, height] to normalized [xmin, ymin, xmax, ymax].\n",
    "        \"\"\"\n",
    "        \n",
    "        ans = []\n",
    "\n",
    "        ans.append(box_coordinates[0] - box_coordinates[2] / 2) # xmin\n",
    "        ans.append(box_coordinates[1] - box_coordinates[3] / 2) # ymin\n",
    "      \n",
    "        ans.append(box_coordinates[0] + box_coordinates[2] / 2) # xmax\n",
    "        ans.append(box_coordinates[1] + box_coordinates[3] / 2) # ymax\n",
    "        \n",
    "        return ans"
   ]
  },
  {
   "cell_type": "code",
   "execution_count": 458,
   "metadata": {},
   "outputs": [],
   "source": [
    "def intersection_over_union(predicted_bbox, gt_bbox) -> float:\n",
    "    \"\"\"\n",
    "    Intersection Over Union for two rectangles\n",
    "\n",
    "    :param: predicted_bbox - [x_center, y_center, width, height]\n",
    "    :param: gt_bbox - [x_center, y_center, width, height]\n",
    "    \n",
    "    :return: Intersection Over Union\n",
    "    \"\"\"\n",
    "\n",
    "    predicted_bbox = convert_to_albumnetations_box_params(predicted_bbox)\n",
    "    gt_bbox = convert_to_albumnetations_box_params(gt_bbox)\n",
    "    \n",
    "    return intersection_over_union_old(predicted_bbox, gt_bbox)"
   ]
  },
  {
   "cell_type": "markdown",
   "metadata": {
    "id": "RxfMVwzHW2MJ"
   },
   "source": [
    "## Model"
   ]
  },
  {
   "cell_type": "code",
   "execution_count": 459,
   "metadata": {
    "id": "3PJwrvcWW1n7"
   },
   "outputs": [],
   "source": [
    "class CNNBlock(nn.Module):\n",
    "    def __init__(self, in_channels, out_channels, is_max_pool:bool=False, **kwargs):\n",
    "        \n",
    "        super().__init__()\n",
    "        \n",
    "        self.conv = nn.Conv2d(in_channels, out_channels, **kwargs)\n",
    "        self.batchnorm = nn.BatchNorm2d(out_channels)\n",
    "        self.leakyrelu = nn.LeakyReLU(0.1)\n",
    "\n",
    "        self.is_maxpool = is_max_pool\n",
    "        self.maxpool = nn.MaxPool2d(2, stride=2)\n",
    "        \n",
    "    def forward(self, x):\n",
    "        x = self.leakyrelu(self.batchnorm(self.conv(x)))\n",
    "\n",
    "        if self.is_maxpool:\n",
    "            x = self.maxpool(x)\n",
    "\n",
    "        return x\n",
    "    \n",
    "class YOLO(nn.Module):\n",
    "    def __init__(self, S=7, B=2, C=3):\n",
    "        \"\"\"\n",
    "        :param: S * S - the number of cells into which the image is divided\n",
    "        :param: B - the number of predicted rectangles in each cell\n",
    "        :param: C - number of classes\n",
    "        \"\"\"\n",
    "        \n",
    "        super(YOLO, self).__init__()\n",
    "\n",
    "        self.S = S\n",
    "        self.B = B\n",
    "        self.C = C\n",
    "        \n",
    "        self.CNN1 = CNNBlock(3, 64, is_max_pool=True, kernel_size=7, stride=2)\n",
    "        \n",
    "        self.CNN2 = CNNBlock(64, 192, is_max_pool=True, kernel_size=3)\n",
    "        \n",
    "        self.CNN3 = CNNBlock(192, 128, is_max_pool=False, kernel_size=1)\n",
    "        self.CNN4 = CNNBlock(128, 256, is_max_pool=False, kernel_size=3)\n",
    "        self.CNN5 = CNNBlock(256, 256, is_max_pool=False, kernel_size=1)\n",
    "        self.CNN6 = CNNBlock(256, 512, is_max_pool=True, kernel_size=3)\n",
    "        \n",
    "        self.CNN7 = CNNBlock(512, 512, is_max_pool=False, kernel_size=1, stride=2)\n",
    "        self.CNN8 = CNNBlock(512, 1024, is_max_pool=False, kernel_size=3)\n",
    "        self.CNN9 = CNNBlock(1024, 1024, is_max_pool=False, kernel_size=3, stride=2)\n",
    "        \n",
    "        self.CNN10 = CNNBlock(1024, 1024, is_max_pool=False, kernel_size=3)\n",
    "        \n",
    "        self.leakyrelu = nn.LeakyReLU(0.1)\n",
    "        \n",
    "        self.linear1 = torch.nn.Linear(in_features=9216, out_features=4096)\n",
    "        self.linear2 = torch.nn.Linear(in_features=4096, out_features=self.S * self.S * (5 * self.B + self.C))\n",
    "\n",
    "        \n",
    "    def forward(self, x):\n",
    "        x = self.CNN1(x)\n",
    "        x = self.CNN2(x)\n",
    "        x = self.CNN3(x)\n",
    "        x = self.CNN4(x)\n",
    "        x = self.CNN5(x)\n",
    "        x = self.CNN6(x)\n",
    "        x = self.CNN7(x)\n",
    "        x = self.CNN8(x)\n",
    "        x = self.CNN9(x)\n",
    "        x = self.CNN10(x)\n",
    "        \n",
    "        x = x.view(x.size(0), -1)\n",
    "        \n",
    "        x = self.leakyrelu(self.linear1(x))\n",
    "        x = self.linear2(x)\n",
    "        \n",
    "        x = x.reshape((-1, self.S, self.S, (self.B * 5 + self.C)))\n",
    "        \n",
    "        return x\n",
    "\n",
    "\n",
    "temp_model = YOLO()\n",
    "expected_output_shape = temp_model.S * temp_model.S * (5 * temp_model.B + temp_model.C)\n",
    "\n",
    "assert temp_model(train_dataset[0][0].unsqueeze(0)).reshape(-1).shape[0] == expected_output_shape"
   ]
  },
  {
   "cell_type": "markdown",
   "metadata": {
    "id": "OJIjWKbcYUYe"
   },
   "source": [
    "## YoloLoss"
   ]
  },
  {
   "cell_type": "code",
   "execution_count": 1290,
   "metadata": {},
   "outputs": [],
   "source": [
    "class YoloLoss(nn.Module):\n",
    "    def __init__(self, S=7, B=2, C=3):\n",
    "        \"\"\"\n",
    "        :param: S * S - the number of cells into which the image is divided\n",
    "        :param: B - the number of predicted rectangles in each cell\n",
    "        :param: C - number of classes\n",
    "        \"\"\"\n",
    "        \n",
    "        super().__init__()\n",
    "        self.mse = nn.MSELoss(reduction=\"sum\")\n",
    "\n",
    "        self.S = S\n",
    "        self.B = B\n",
    "        self.C = C\n",
    "\n",
    "        self.lambda_noobj = 0.5\n",
    "        self.lambda_coord = 5\n",
    "\n",
    "    def forward(self, predictions, target):\n",
    "        S = self.S\n",
    "        B = self.B\n",
    "        C = self.C\n",
    "        \n",
    "        coord_indicator = target[:, :, :, 4] > 0\n",
    "        noobj_indicator = target[:, :, :, 4] == 0\n",
    "        coord_indicator = coord_indicator.unsqueeze(-1).expand_as(target)\n",
    "        noobj_indicator = noobj_indicator.unsqueeze(-1).expand_as(target)           \n",
    "                                                                   \n",
    "        bbox_pred = predictions[coord_indicator].reshape(-1, 5 * B + C)[:, :5 * B].reshape(-1, 5)  \n",
    "        class_pred = predictions[coord_indicator].reshape(-1, 5 * B + C)[:, 5*B:]   \n",
    "        \n",
    "        bbox_target = target[coord_indicator].view(-1, 5 * B + C)[:, :5*B].reshape(-1, 5)\n",
    "        class_target = target[coord_indicator].view(-1, 5 * B + C)[:, 5*B:]  \n",
    "        \n",
    "        # calc loss on cells with objects\n",
    "        response_mask = torch.zeros(bbox_target.shape)\n",
    "        not_response_mask = torch.ones(bbox_target.shape)\n",
    "        pred_iou = torch.zeros(bbox_target.size()[0]).reshape(-1, 1)\n",
    "        target_confidence = torch.zeros(bbox_target.size())   \n",
    "        \n",
    "        for i in range(0, bbox_target.shape[0], B):\n",
    "            target_i = bbox_target[i]\n",
    "            for j in range(B):\n",
    "                pred = bbox_pred[i+j] \n",
    "                iou = intersection_over_union(pred.detach().numpy(), target_i.detach().numpy())\n",
    "                pred_iou[i+j] = iou\n",
    "\n",
    "        argmax = pred_iou.reshape(-1, 2).argmax(axis=1)\n",
    "        max_values = pred_iou.reshape(-1, 2).max(axis=1).values\n",
    "\n",
    "        for i in range(0, argmax.shape[0]):\n",
    "            response_mask[2*i + argmax[i]] = 1\n",
    "            not_response_mask[2*i + argmax[i]] = 0\n",
    "            target_confidence[2*i + argmax[i], 4] = max_values[i]\n",
    "            \n",
    "        response_mask = response_mask.bool()\n",
    "        not_response_mask = not_response_mask.bool()\n",
    "        \n",
    "        \n",
    "        bbox_pred_response = bbox_pred[response_mask].reshape(-1, 5)\n",
    "        bbox_target_response = bbox_target[response_mask].reshape(-1, 5)\n",
    "\n",
    "        target_iou = target_confidence[response_mask].reshape(-1, 5)\n",
    "\n",
    "        loss_1 = F.mse_loss(bbox_pred_response[:, :2], bbox_target_response[:, :2], reduction='sum')\n",
    "        loss_2 = F.mse_loss(torch.sqrt(bbox_pred_response[:, 2:4].maximum(torch.tensor([0]))), torch.sqrt(bbox_target_response[:, 2:4]), reduction='sum')\n",
    "        loss_3 = F.mse_loss(bbox_pred_response[:, 4], target_iou[:, 4], reduction='sum')    \n",
    "        \n",
    "        loss_class = F.mse_loss(class_pred, class_target, reduction='sum')\n",
    "        \n",
    "        noobj_pred = predictions[noobj_indicator].reshape(-1, B*5 + C)\n",
    "                                                        \n",
    "        noobj_target = target[noobj_indicator].reshape(-1, B*5 + C)    \n",
    "\n",
    "        noobj_conf_mask = torch.zeros(noobj_pred.size())\n",
    "\n",
    "        for b in range(B):\n",
    "            noobj_conf_mask[:, 4 + b*5] = 1\n",
    "\n",
    "        noobj_conf_mask = noobj_conf_mask.bool()\n",
    "\n",
    "        noobj_pred_conf = noobj_pred[noobj_conf_mask]\n",
    "        noobj_target_conf = noobj_target[noobj_conf_mask]\n",
    "        loss_noobj = F.mse_loss(noobj_pred_conf, noobj_target_conf, reduction='sum')\n",
    "        \n",
    "        loss = self.lambda_coord * (loss_1 + loss_2) + loss_3 + self.lambda_noobj * loss_noobj + loss_class\n",
    "        loss = loss / float(predictions.size(0))\n",
    "\n",
    "        return loss\n",
    "# @ several points were borrowed from https://github.com/motokimura/yolo_v1_pytorch/blob/master/loss.py"
   ]
  },
  {
   "cell_type": "markdown",
   "metadata": {
    "id": "aZ1eev1EeNk7"
   },
   "source": [
    "## Additional features from the article"
   ]
  },
  {
   "cell_type": "code",
   "execution_count": 1222,
   "metadata": {
    "id": "OMF8e6yXU6QV"
   },
   "outputs": [],
   "source": [
    "def non_max_suppression_one_class(bboxes, iou_threshold, threshold):\n",
    "    \"\"\"\n",
    "    Non-max suppression for bboxes of one class.\n",
    "    \"\"\"\n",
    "    \n",
    "    bboxes = sorted(bboxes, key=lambda x: x[4], reverse=True)\n",
    "    bboxes = [i for i in bboxes if i[4] > threshold]\n",
    "    \n",
    "    result = []\n",
    "    while len(bboxes) > 0:\n",
    "        result.append(bboxes[0])\n",
    "        bboxes = [i for i in bboxes[1:] if intersection_over_union(bboxes[0][:4], i[:4]) < iou_threshold]\n",
    "    \n",
    "    return np.array(result)\n",
    "\n",
    "def non_max_suppression(bboxes, iou_threshold, threshold):\n",
    "    result = np.array([]).reshape(0, 6)\n",
    "    for label in np.unique(bboxes[:, -1]):\n",
    "        label_bboxes = bboxes[bboxes[:, -1] == label]\n",
    "        result = np.concatenate((result, non_max_suppression_one_class(label_bboxes, iou_threshold, threshold).reshape(-1, 6)), axis=0)\n",
    "    return result    \n",
    "        \n",
    "\n",
    "def get_correct_score(pred_boxes, true_boxes, iou_threshold=0.1):\n",
    "    \"\"\"\n",
    "    PR AUC for one class and one object.\n",
    "    \"\"\"\n",
    "    correct = []\n",
    "    score = []\n",
    "    for pred_box in pred_boxes:\n",
    "        iou = 0\n",
    "        for true_box in true_boxes:\n",
    "            iou = max(iou, intersection_over_union(pred_box[:4], true_box[:4]))\n",
    "        if iou > iou_threshold:\n",
    "            correct.append(1)\n",
    "        else:\n",
    "            correct.append(0)\n",
    "        score.append(pred_box[4])\n",
    "    \n",
    "    return correct, score\n",
    "    \n",
    "\n",
    "def mean_average_precision(pred_boxes, true_boxes, iou_threshold=0.3):\n",
    "    avg_precision = []\n",
    "    for label in [0, 1, 2]:\n",
    "        all_correct = []\n",
    "        all_score = []\n",
    "        for i in range(len(pred_boxes)):\n",
    "            mask_pred = pred_boxes[i][:, -1] == label\n",
    "            mask_true = true_boxes[i][:, -1] == label\n",
    "            correct, score = get_correct_score(pred_boxes[i][mask_pred], true_boxes[i][mask_true], iou_threshold)\n",
    "            all_correct += correct\n",
    "            all_score += score\n",
    "        precision, recall, _ = sklearn.metrics.precision_recall_curve(all_correct, all_score)\n",
    "        avg_precision.append(sklearn.metrics.auc(recall, precision))\n",
    "    return np.mean(avg_precision), avg_precision\n",
    "        \n",
    "\n",
    "def get_bound_boxes(loader, model, iou_threshold=.5, threshold=.2, S=7, B=2, C=3):\n",
    "    all_pred_boxes = []\n",
    "    all_true_boxes = []\n",
    "    for imgs, target in loader:\n",
    "        predictions = model(imgs)\n",
    "        for pred in predictions:\n",
    "            pred_class = pred[:, :, -3:]\n",
    "            pred_class = pred_class.reshape(-1, C)\n",
    "            pred_class = pred_class.detach().numpy()\n",
    "            pred = pred[:, :, :-3]\n",
    "            pred = pred.reshape(-1, 5 * B)\n",
    "            pred = pred.detach().numpy()\n",
    "            mask = np.zeros((pred.shape[0], B)).astype(bool)\n",
    "            for b in range(B):\n",
    "                mask[:, b] = (pred[:, 5*b +4] > threshold)\n",
    "            pred = pred.reshape(-1, B, 5)\n",
    "            pred = pred[mask]\n",
    "            pred_class = np.repeat(pred_class.argmax(axis=1)[:, None], B, axis=1)[mask][:, None]\n",
    "            pred = np.concatenate((pred, pred_class), axis=1)\n",
    "            all_pred_boxes.append(pred)\n",
    "        for tar in target:\n",
    "            tar = tar[tar[:, :, 4] > 0]\n",
    "            tar = tar.detach().numpy()\n",
    "            tar_class = tar[:, -3:].argmax(axis=1)\n",
    "            tar = tar[:, :5]\n",
    "            tar = np.concatenate((tar, tar_class[:, None]), axis=1)\n",
    "            all_true_boxes.append(tar)\n",
    "    return all_pred_boxes, all_true_boxes"
   ]
  },
  {
   "cell_type": "markdown",
   "metadata": {
    "id": "z38hYLM6haDk"
   },
   "source": [
    "## Training"
   ]
  },
  {
   "cell_type": "code",
   "execution_count": 1223,
   "metadata": {
    "id": "6BTNHNqtMpSi"
   },
   "outputs": [],
   "source": [
    "class YOLOLearner(pl.LightningModule):\n",
    "    def __init__(self, model) -> None:\n",
    "        super().__init__()\n",
    "\n",
    "        self.model = model\n",
    "        self.loss = YoloLoss()\n",
    "        self.optimizer = torch.optim.Adam(self.model.parameters(), lr=1e-5)\n",
    "\n",
    "    def forward(self, x) -> torch.Tensor:\n",
    "        return self.model(x)\n",
    "\n",
    "    def configure_optimizers(self):\n",
    "        return self.optimizer\n",
    "\n",
    "    def training_step(self, train_batch, batch_idx) -> torch.Tensor:\n",
    "        images, target = train_batch\n",
    "        y_hat = self.model(images)\n",
    "        loss = self.loss(y_hat, target)\n",
    "        self.log(\"train_loss\", loss, prog_bar=True)\n",
    "        return loss"
   ]
  },
  {
   "cell_type": "code",
   "execution_count": 474,
   "metadata": {
    "id": "sRl42I2xMpSi"
   },
   "outputs": [
    {
     "name": "stderr",
     "output_type": "stream",
     "text": [
      "GPU available: True (cuda), used: False\n",
      "TPU available: False, using: 0 TPU cores\n",
      "IPU available: False, using: 0 IPUs\n",
      "HPU available: False, using: 0 HPUs\n",
      "\n",
      "  | Name  | Type     | Params\n",
      "-----------------------------------\n",
      "0 | model | YOLO     | 65.9 M\n",
      "1 | loss  | YoloLoss | 0     \n",
      "-----------------------------------\n",
      "65.9 M    Trainable params\n",
      "0         Non-trainable params\n",
      "65.9 M    Total params\n",
      "263.669   Total estimated model params size (MB)\n"
     ]
    },
    {
     "data": {
      "application/vnd.jupyter.widget-view+json": {
       "model_id": "f0f143dafddb448ca5ea842cea236368",
       "version_major": 2,
       "version_minor": 0
      },
      "text/plain": [
       "Training: 0it [00:00, ?it/s]"
      ]
     },
     "metadata": {},
     "output_type": "display_data"
    },
    {
     "name": "stderr",
     "output_type": "stream",
     "text": [
      "`Trainer.fit` stopped: `max_epochs=10` reached.\n"
     ]
    }
   ],
   "source": [
    "model = YOLO()\n",
    "n_epochs = 10\n",
    "\n",
    "yolo_learner = YOLOLearner(model=model)  ## YOUR CODE\n",
    "\n",
    "# device = \"gpu\" if torch.cuda.is_available() else \"cpu\"\n",
    "device = \"cpu\"\n",
    "trainer = pl.Trainer(accelerator=device, max_epochs=n_epochs)\n",
    "\n",
    "trainer.fit(yolo_learner, train_dataloader, val_dataloader)"
   ]
  },
  {
   "cell_type": "markdown",
   "metadata": {
    "id": "eb7ioohR96vu"
   },
   "source": [
    "## Results\n",
    "\n",
    "Попробуйте понять насколько хороши ваши показатели. Если числа кажутся подозрительно низкими - возможно вам стоит перепроверить ваше решение. "
   ]
  },
  {
   "cell_type": "code",
   "execution_count": 1225,
   "metadata": {},
   "outputs": [
    {
     "data": {
      "text/plain": [
       "(0.4587615451457068,\n",
       " [0.40968764981070155, 0.4641759523582901, 0.5024210332681287])"
      ]
     },
     "execution_count": 1225,
     "metadata": {},
     "output_type": "execute_result"
    }
   ],
   "source": [
    "## mAP Train\n",
    "all_pred_boxes, all_true_boxes = get_bound_boxes(train_dataloader, model)\n",
    "mean_average_precision(all_pred_boxes, all_true_boxes)"
   ]
  },
  {
   "cell_type": "code",
   "execution_count": 1226,
   "metadata": {
    "id": "WUnlNeot98un"
   },
   "outputs": [
    {
     "data": {
      "text/plain": [
       "(0.47852347420414826,\n",
       " [0.5407286440206664, 0.4683124745624745, 0.426529304029304])"
      ]
     },
     "execution_count": 1226,
     "metadata": {},
     "output_type": "execute_result"
    }
   ],
   "source": [
    "## mAP Validation\n",
    "all_pred_boxes, all_true_boxes = get_bound_boxes(val_dataloader, model)\n",
    "mean_average_precision(all_pred_boxes, all_true_boxes)"
   ]
  }
 ],
 "metadata": {
  "colab": {
   "provenance": []
  },
  "kernelspec": {
   "display_name": "Python 3 (ipykernel)",
   "language": "python",
   "name": "python3"
  },
  "language_info": {
   "codemirror_mode": {
    "name": "ipython",
    "version": 3
   },
   "file_extension": ".py",
   "mimetype": "text/x-python",
   "name": "python",
   "nbconvert_exporter": "python",
   "pygments_lexer": "ipython3",
   "version": "3.11.7"
  }
 },
 "nbformat": 4,
 "nbformat_minor": 1
}
